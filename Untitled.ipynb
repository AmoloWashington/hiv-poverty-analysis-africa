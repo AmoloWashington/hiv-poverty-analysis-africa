{
 "cells": [
  {
   "cell_type": "markdown",
   "id": "d5f46a0a-d505-47d3-8197-a29052387503",
   "metadata": {},
   "source": [
    "## Task Requirements:\n",
    "    1. Filter data for the eight EAC countries\n",
    "    2. Visualize latest mortality estimates using shapefiles\n",
    "    3. Show average trends in mortality rates over time\n",
    "    4. Identify countries with highest mortality rates\""
   ]
  },
  {
   "cell_type": "markdown",
   "id": "35a052b0-9e55-4413-8a1b-f152c581f226",
   "metadata": {},
   "source": [
    "# Import Libraries"
   ]
  },
  {
   "cell_type": "code",
   "execution_count": 1,
   "id": "1904fc63-f73a-4b69-b817-e576addbf71c",
   "metadata": {},
   "outputs": [],
   "source": [
    "import pandas as pd\n",
    "import numpy as np\n",
    "import matplotlib.pyplot as plt\n",
    "import seaborn as sns\n",
    "import geopandas as gpd\n",
    "from matplotlib.colors import LinearSegmentedColormap\n",
    "import os"
   ]
  },
  {
   "cell_type": "code",
   "execution_count": 2,
   "id": "9bd2350c-2e5a-4b9c-870c-919a36166e29",
   "metadata": {},
   "outputs": [],
   "source": [
    "# Set plot style\n",
    "plt.style.use('seaborn-v0_8-whitegrid')\n",
    "sns.set_palette(\"viridis\")\n",
    "\n",
    "# Set figure size for better visualization\n",
    "plt.rcParams['figure.figsize'] = [12, 8]\n",
    "plt.rcParams['figure.dpi'] = 100"
   ]
  },
  {
   "cell_type": "markdown",
   "id": "96e1b0a3-5c63-4a50-b970-292528125b93",
   "metadata": {},
   "source": [
    "## 3. Define East African Community Countries"
   ]
  },
  {
   "cell_type": "code",
   "execution_count": 3,
   "id": "022a606b-1d09-4f26-b695-1998a1a8f125",
   "metadata": {},
   "outputs": [
    {
     "name": "stdout",
     "output_type": "stream",
     "text": [
      "East African Community (EAC) Countries:\n",
      "1. Burundi\n",
      "2. Kenya\n",
      "3. Rwanda\n",
      "4. South Sudan\n",
      "5. Tanzania\n",
      "6. Uganda\n",
      "7. Democratic Republic of the Congo\n",
      "8. Somalia\n"
     ]
    }
   ],
   "source": [
    "# Define East African Community countries\n",
    "eac_countries = [\n",
    "        'Burundi',\n",
    "        'Kenya',\n",
    "        'Rwanda',\n",
    "        'South Sudan',\n",
    "        'Tanzania',\n",
    "        'Uganda',\n",
    "        'Democratic Republic of the Congo',\n",
    "        'Somalia']\n",
    "# Print the list of EAC countries\n",
    "print(\"East African Community (EAC) Countries:\")\n",
    "for i, country in enumerate(eac_countries, 1):\n",
    "       print(f\"{i}. {country}\")"
   ]
  },
  {
   "cell_type": "markdown",
   "id": "c9d69769-bb59-4e3d-8d23-2590d4b0308a",
   "metadata": {},
   "source": [
    "## 4. Load and Prepare Data"
   ]
  },
  {
   "cell_type": "code",
   "execution_count": 4,
   "id": "fad19394-ef3a-482a-94f6-472ae9132b58",
   "metadata": {},
   "outputs": [],
   "source": [
    "# Define file paths - update these to match your local file paths\\n\",\n",
    "dataset_science_path = r\"C:\\Users\\Amolo Washington\\OneDrive\\Desktop\\CEMA_INTERNSHIP\\dataset_datascience.csv\"\n",
    "hiv_data_path = r\"C:\\Users\\Amolo Washington\\OneDrive\\Desktop\\CEMA_INTERNSHIP\\HIV data 2000-2023.csv\"\n",
    "poverty_data_path = r\"C:\\Users\\Amolo Washington\\OneDrive\\Desktop\\CEMA_INTERNSHIP\\multidimensional_poverty.xlsx\"\n",
    "neonatal_data_path = r\"C:\\Users\\Amolo Washington\\OneDrive\\Desktop\\CEMA_INTERNSHIP\\neonatal_mortality_rate.csv\"\n",
    "under5_data_path = r\"C:\\Users\\Amolo Washington\\OneDrive\\Desktop\\CEMA_INTERNSHIP\\under_five mortality rate.csv\""
   ]
  },
  {
   "cell_type": "code",
   "execution_count": null,
   "id": "b27632e8-5f8e-4ac9-8a54-e7d2db932a3e",
   "metadata": {},
   "outputs": [],
   "source": []
  }
 ],
 "metadata": {
  "kernelspec": {
   "display_name": "Python 3 (ipykernel)",
   "language": "python",
   "name": "python3"
  },
  "language_info": {
   "codemirror_mode": {
    "name": "ipython",
    "version": 3
   },
   "file_extension": ".py",
   "mimetype": "text/x-python",
   "name": "python",
   "nbconvert_exporter": "python",
   "pygments_lexer": "ipython3",
   "version": "3.12.9"
  }
 },
 "nbformat": 4,
 "nbformat_minor": 5
}
